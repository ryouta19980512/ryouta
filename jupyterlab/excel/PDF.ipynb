{
 "cells": [
  {
   "cell_type": "code",
   "execution_count": 7,
   "id": "ff62ff80-93d0-404a-831c-8f97342ab7cd",
   "metadata": {
    "tags": []
   },
   "outputs": [],
   "source": [
    "import openpyxl\n",
    "from openpyxl.styles import Alignment, PatternFill, Font, Border, Side"
   ]
  },
  {
   "cell_type": "code",
   "execution_count": 8,
   "id": "258f6655-dbda-4abe-adad-b21cb5c74e42",
   "metadata": {
    "tags": []
   },
   "outputs": [],
   "source": [
    "from glob import glob"
   ]
  },
  {
   "cell_type": "code",
   "execution_count": 9,
   "id": "90a6522a-772b-46a6-9a72-395799de1c5e",
   "metadata": {
    "tags": []
   },
   "outputs": [
    {
     "data": {
      "text/plain": [
       "'C:\\\\Users\\\\ryout\\\\Documents\\\\jupyterlab\\\\excel\\\\all_data.xlsx'"
      ]
     },
     "execution_count": 9,
     "metadata": {},
     "output_type": "execute_result"
    }
   ],
   "source": [
    "filepath = glob(r'C:\\Users\\ryout\\Documents\\jupyterlab\\excel\\all_data.xlsx')[0]\n",
    "filepath"
   ]
  },
  {
   "cell_type": "code",
   "execution_count": 10,
   "id": "8c15c0a6-10b1-43f9-8532-40e01c09fb95",
   "metadata": {
    "tags": []
   },
   "outputs": [],
   "source": [
    "wb = openpyxl.load_workbook(filepath)\n",
    "sh = wb.active"
   ]
  },
  {
   "cell_type": "code",
   "execution_count": 11,
   "id": "42164ffb-4d44-4b30-a744-dbd7595a3659",
   "metadata": {
    "tags": []
   },
   "outputs": [
    {
     "data": {
      "text/plain": [
       "4"
      ]
     },
     "execution_count": 11,
     "metadata": {},
     "output_type": "execute_result"
    }
   ],
   "source": [
    "max_col = sh.max_column\n",
    "max_col"
   ]
  },
  {
   "cell_type": "code",
   "execution_count": 12,
   "id": "a3c31ec9-aa6c-4dcd-89d9-b71a20fe18d6",
   "metadata": {
    "tags": []
   },
   "outputs": [],
   "source": [
    "import string"
   ]
  },
  {
   "cell_type": "code",
   "execution_count": 13,
   "id": "52195e7c-ca94-4d0b-948b-968666346138",
   "metadata": {
    "tags": []
   },
   "outputs": [
    {
     "data": {
      "text/plain": [
       "'ABCD'"
      ]
     },
     "execution_count": 13,
     "metadata": {},
     "output_type": "execute_result"
    }
   ],
   "source": [
    "cols = string.ascii_uppercase[:max_col]\n",
    "cols"
   ]
  },
  {
   "cell_type": "code",
   "execution_count": 14,
   "id": "7d8ed037-82f2-49a8-9c89-a1e26e0b7f6d",
   "metadata": {
    "tags": []
   },
   "outputs": [
    {
     "data": {
      "text/plain": [
       "[12, 12, 12, 12]"
      ]
     },
     "execution_count": 14,
     "metadata": {},
     "output_type": "execute_result"
    }
   ],
   "source": [
    "widths = [12]*max_col\n",
    "widths"
   ]
  },
  {
   "cell_type": "code",
   "execution_count": 15,
   "id": "b911e026-de63-4363-b0ea-3f5de6c08c9d",
   "metadata": {
    "tags": []
   },
   "outputs": [],
   "source": [
    "widths[0] = 5\n",
    "widths[1] = 5\n",
    "widths[2] = 20\n",
    "widths[3] = 100"
   ]
  },
  {
   "cell_type": "code",
   "execution_count": 16,
   "id": "02c045e6-336f-4163-983c-4d4d9356e952",
   "metadata": {
    "tags": []
   },
   "outputs": [
    {
     "data": {
      "text/plain": [
       "[5, 5, 20, 100]"
      ]
     },
     "execution_count": 16,
     "metadata": {},
     "output_type": "execute_result"
    }
   ],
   "source": [
    "widths"
   ]
  },
  {
   "cell_type": "code",
   "execution_count": 17,
   "id": "ce6b7e49-120e-4826-b134-fd85011196b7",
   "metadata": {
    "tags": []
   },
   "outputs": [],
   "source": [
    "widths_prefs = {}\n",
    "\n",
    "for col, width in zip(cols, widths):\n",
    "    widths_prefs.update({col:width})"
   ]
  },
  {
   "cell_type": "code",
   "execution_count": 18,
   "id": "3b5d59ec-c0bd-4713-b0d2-b66765ae0df4",
   "metadata": {
    "tags": []
   },
   "outputs": [
    {
     "data": {
      "text/plain": [
       "{'A': 5, 'B': 5, 'C': 20, 'D': 100}"
      ]
     },
     "execution_count": 18,
     "metadata": {},
     "output_type": "execute_result"
    }
   ],
   "source": [
    "widths_prefs"
   ]
  },
  {
   "cell_type": "code",
   "execution_count": 19,
   "id": "c2ec4830-1ffc-429b-9f0b-b2dd975098d7",
   "metadata": {
    "tags": []
   },
   "outputs": [],
   "source": [
    "col_name = 'A'\n",
    "sh.column_dimensions[col_name].width = widths_prefs[col_name]"
   ]
  },
  {
   "cell_type": "code",
   "execution_count": 20,
   "id": "da014ecd-7ff1-46d7-b5aa-5e9fed203efe",
   "metadata": {
    "tags": []
   },
   "outputs": [],
   "source": [
    "for col_name in widths_prefs:\n",
    "    sh.column_dimensions[col_name].width = widths_prefs[col_name]"
   ]
  },
  {
   "cell_type": "code",
   "execution_count": 21,
   "id": "c14085b0-da64-4c22-ac44-63057ebcb4f5",
   "metadata": {
    "tags": []
   },
   "outputs": [],
   "source": [
    "side = Side(style='thin', color='000000')\n",
    "border = Border(left=side, right=side, top=side, bottom=side)\n",
    "\n",
    "for row in sh:\n",
    "    for cell in row:\n",
    "        cell.border = border"
   ]
  },
  {
   "cell_type": "code",
   "execution_count": 22,
   "id": "a62beba3-521a-4c34-9e6d-43a9b9856789",
   "metadata": {
    "tags": []
   },
   "outputs": [],
   "source": [
    "sh.freeze_panes = 'D1'"
   ]
  },
  {
   "cell_type": "code",
   "execution_count": 23,
   "id": "62c85bf2-8e64-4700-824a-0fd09f049fa0",
   "metadata": {
    "tags": []
   },
   "outputs": [],
   "source": [
    "from openpyxl.styles import Alignment\n",
    "wrap_text = Alignment(wrapText=True)\n",
    "for cel in sh['D:D']:\n",
    "    cel.alignment = wrap_text"
   ]
  },
  {
   "cell_type": "code",
   "execution_count": 24,
   "id": "95dd0190-2b16-4a59-a2cf-c41efb7c7dce",
   "metadata": {
    "tags": []
   },
   "outputs": [],
   "source": [
    "wb.save(filepath)"
   ]
  },
  {
   "cell_type": "code",
   "execution_count": 25,
   "id": "34f53dee-e9ed-444a-a474-cda1c24e92aa",
   "metadata": {
    "tags": []
   },
   "outputs": [
    {
     "name": "stdout",
     "output_type": "stream",
     "text": [
      "Requirement already satisfied: reportlab in c:\\users\\ryout\\anaconda3\\lib\\site-packages (4.0.6)\n",
      "Requirement already satisfied: pillow>=9.0.0 in c:\\users\\ryout\\anaconda3\\lib\\site-packages (from reportlab) (9.4.0)\n"
     ]
    }
   ],
   "source": [
    "!pip install reportlab"
   ]
  },
  {
   "cell_type": "code",
   "execution_count": 26,
   "id": "d90fd7cf-e183-42a5-9c33-0975962f82b8",
   "metadata": {
    "tags": []
   },
   "outputs": [],
   "source": [
    "from reportlab.pdfbase.cidfonts import UnicodeCIDFont\n",
    "from reportlab.pdfbase import pdfmetrics\n",
    "from reportlab.platypus import SimpleDocTemplate, Table, TableStyle\n",
    "from reportlab.lib.pagesizes import A4, landscape\n",
    "from reportlab.lib import colors"
   ]
  },
  {
   "cell_type": "code",
   "execution_count": 27,
   "id": "23978d7d-e0b5-4eb8-9d02-460f7b0dfffc",
   "metadata": {
    "tags": []
   },
   "outputs": [],
   "source": [
    "import reportlab.pdfgen.canvas as rc"
   ]
  },
  {
   "cell_type": "code",
   "execution_count": 28,
   "id": "3d2f00f3-d5b1-4853-98fc-e1cdac4f6255",
   "metadata": {},
   "outputs": [
    {
     "ename": "TypeError",
     "evalue": "'Alignment' object is not callable",
     "output_type": "error",
     "traceback": [
      "\u001b[1;31m---------------------------------------------------------------------------\u001b[0m",
      "\u001b[1;31mTypeError\u001b[0m                                 Traceback (most recent call last)",
      "Cell \u001b[1;32mIn[28], line 14\u001b[0m\n\u001b[0;32m     11\u001b[0m \u001b[38;5;28;01mfor\u001b[39;00m coordinate, value \u001b[38;5;129;01min\u001b[39;00m cell_data\u001b[38;5;241m.\u001b[39mitems():\n\u001b[0;32m     12\u001b[0m     \u001b[38;5;28;01mif\u001b[39;00m \u001b[38;5;28mlen\u001b[39m(value) \u001b[38;5;241m>\u001b[39m \u001b[38;5;241m50\u001b[39m:\n\u001b[0;32m     13\u001b[0m         \u001b[38;5;66;03m# 折り返す必要があるセルです。\u001b[39;00m\n\u001b[1;32m---> 14\u001b[0m         cell_data[coordinate] \u001b[38;5;241m=\u001b[39m wrap_text(value)\n\u001b[0;32m     16\u001b[0m \u001b[38;5;66;03m# 折り返したセルデータを PDF ファイルに出力します。\u001b[39;00m\n\u001b[0;32m     17\u001b[0m c \u001b[38;5;241m=\u001b[39m rc\u001b[38;5;241m.\u001b[39mCanvas(\u001b[38;5;124m'\u001b[39m\u001b[38;5;124moutput.pdf\u001b[39m\u001b[38;5;124m'\u001b[39m)\n",
      "\u001b[1;31mTypeError\u001b[0m: 'Alignment' object is not callable"
     ]
    }
   ],
   "source": [
    "wb = openpyxl.load_workbook('all_data.xlsx')\n",
    "ws = wb.active\n",
    "\n",
    "# セルのデータを取得します。\n",
    "cell_data = {}\n",
    "for row in ws.iter_rows():\n",
    "    for cell in row:\n",
    "        cell_data[cell.coordinate] = cell.value\n",
    "\n",
    "# 折り返す必要があるセルを判定します。\n",
    "for coordinate, value in cell_data.items():\n",
    "    if len(value) > 50:\n",
    "        # 折り返す必要があるセルです。\n",
    "        cell_data[coordinate] = wrap_text(value)\n",
    "\n",
    "# 折り返したセルデータを PDF ファイルに出力します。\n",
    "c = rc.Canvas('output.pdf')\n",
    "for coordinate, value in cell_data.items():\n",
    "    c.drawString(coordinate, value)\n",
    "c.save()\n"
   ]
  },
  {
   "cell_type": "code",
   "execution_count": 34,
   "id": "1ce4118d-2d9d-4fb5-8ceb-2394477b569b",
   "metadata": {
    "tags": []
   },
   "outputs": [],
   "source": [
    "def pdf_gen(file_pdf,sh):\n",
    "    cell_data = {}\n",
    "    for row in ws.iter_rows():\n",
    "        for cell in row:\n",
    "            cell_data[cell.coordinate] = cell.value\n",
    "\n",
    "    # 折り返す必要があるセルを判定します。\n",
    "    for coordinate, value in cell_data.items():\n",
    "        if len(value) > 50:\n",
    "            # 折り返す必要があるセルです。\n",
    "            cell_data[coordinate] = wrap_text(value)\n",
    "    \n",
    "    doc = SimpleDocTemplate(file_pdf, pagesize=landscape(A4))\n",
    "    fontname_g = 'HeiseiKakuGo-W5'\n",
    "    pdfmetrics.registerFont(UnicodeCIDFont(fontname_g))\n",
    "    elements = []\n",
    "    data = []\n",
    "    for row in sh.rows:\n",
    "        unit_aa = []\n",
    "        for cell in row:\n",
    "            unit_aa.append(cell.value)\n",
    "        data.append(unit_aa)\n",
    "    tt=Table(data)\n",
    "    \n",
    "    tt.setStyle(TableStyle([\n",
    "        ('FONT', (0,0),(-1,-1), 'HeiseiKakuGo-W5', 10.5),\n",
    "        ('GRID', (0,0),(-1,-1), 0.25, colors.black),]))\n",
    "    \n",
    "    elements.append(tt)\n",
    "    doc.build(elements)"
   ]
  },
  {
   "cell_type": "code",
   "execution_count": 31,
   "id": "59fa495e-4eca-4431-892b-983319222593",
   "metadata": {
    "tags": []
   },
   "outputs": [
    {
     "data": {
      "text/plain": [
       "'C:\\\\Users\\\\ryout\\\\Documents\\\\jupyterlab\\\\excel\\\\all_data.xlsx'"
      ]
     },
     "execution_count": 31,
     "metadata": {},
     "output_type": "execute_result"
    }
   ],
   "source": [
    "filepath"
   ]
  },
  {
   "cell_type": "code",
   "execution_count": 32,
   "id": "fa9d009d-9509-424a-91f6-14de8850e9b8",
   "metadata": {
    "tags": []
   },
   "outputs": [],
   "source": [
    "file_pdf = r'C:\\Users\\ryout\\Documents\\jupyterlab\\excel\\all_data.pdf'"
   ]
  },
  {
   "cell_type": "code",
   "execution_count": 35,
   "id": "c0c6488a-71ea-47b1-96e8-c67ed8fa1f5f",
   "metadata": {
    "tags": []
   },
   "outputs": [
    {
     "ename": "TypeError",
     "evalue": "'Alignment' object is not callable",
     "output_type": "error",
     "traceback": [
      "\u001b[1;31m---------------------------------------------------------------------------\u001b[0m",
      "\u001b[1;31mTypeError\u001b[0m                                 Traceback (most recent call last)",
      "Cell \u001b[1;32mIn[35], line 1\u001b[0m\n\u001b[1;32m----> 1\u001b[0m pdf_gen(file_pdf, sh)\n",
      "Cell \u001b[1;32mIn[34], line 11\u001b[0m, in \u001b[0;36mpdf_gen\u001b[1;34m(file_pdf, sh)\u001b[0m\n\u001b[0;32m      8\u001b[0m \u001b[38;5;28;01mfor\u001b[39;00m coordinate, value \u001b[38;5;129;01min\u001b[39;00m cell_data\u001b[38;5;241m.\u001b[39mitems():\n\u001b[0;32m      9\u001b[0m     \u001b[38;5;28;01mif\u001b[39;00m \u001b[38;5;28mlen\u001b[39m(value) \u001b[38;5;241m>\u001b[39m \u001b[38;5;241m50\u001b[39m:\n\u001b[0;32m     10\u001b[0m         \u001b[38;5;66;03m# 折り返す必要があるセルです。\u001b[39;00m\n\u001b[1;32m---> 11\u001b[0m         cell_data[coordinate] \u001b[38;5;241m=\u001b[39m wrap_text(value)\n\u001b[0;32m     13\u001b[0m doc \u001b[38;5;241m=\u001b[39m SimpleDocTemplate(file_pdf, pagesize\u001b[38;5;241m=\u001b[39mlandscape(A4))\n\u001b[0;32m     14\u001b[0m fontname_g \u001b[38;5;241m=\u001b[39m \u001b[38;5;124m'\u001b[39m\u001b[38;5;124mHeiseiKakuGo-W5\u001b[39m\u001b[38;5;124m'\u001b[39m\n",
      "\u001b[1;31mTypeError\u001b[0m: 'Alignment' object is not callable"
     ]
    }
   ],
   "source": [
    "pdf_gen(file_pdf, sh)"
   ]
  },
  {
   "cell_type": "code",
   "execution_count": null,
   "id": "c8dc5c47-3d02-43f4-880b-d6a5792520a4",
   "metadata": {},
   "outputs": [],
   "source": []
  }
 ],
 "metadata": {
  "kernelspec": {
   "display_name": "Python 3 (ipykernel)",
   "language": "python",
   "name": "python3"
  },
  "language_info": {
   "codemirror_mode": {
    "name": "ipython",
    "version": 3
   },
   "file_extension": ".py",
   "mimetype": "text/x-python",
   "name": "python",
   "nbconvert_exporter": "python",
   "pygments_lexer": "ipython3",
   "version": "3.11.5"
  }
 },
 "nbformat": 4,
 "nbformat_minor": 5
}
