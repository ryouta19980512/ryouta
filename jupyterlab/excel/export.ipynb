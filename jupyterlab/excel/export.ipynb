{
 "cells": [
  {
   "cell_type": "code",
   "execution_count": 7,
   "id": "6486579a-a61a-42c2-99e2-4c4578733fd7",
   "metadata": {
    "tags": []
   },
   "outputs": [],
   "source": [
    "import openpyxl\n",
    "import pandas as pd\n",
    "\n",
    "# Excelファイルの読み込み\n",
    "wb = openpyxl.load_workbook(r\"C:\\Users\\ryout\\Documents\\jupyterlab\\excel\\all_data.xlsx\")\n",
    "\n",
    "# 対象シートの取得\n",
    "sheet = wb[\"Sheet1\"]\n",
    "\n",
    "target_words = [\"優しい\"]\n",
    "target_grade = [\"5年\"]\n",
    "target_class = [\"1組\", \"2組\", \"3組\"]\n",
    "\n",
    "target_rows = []\n",
    "for row in sheet.iter_rows():\n",
    "    if row[0].value in target_grade and row[1].value in target_class :\n",
    "        for cell in row:\n",
    "            for target_word in target_words:\n",
    "                if target_word in cell.value:\n",
    "                    target_rows.append(row)\n",
    "\n",
    "# 新しいシートの作成\n",
    "new_sheet_1 = wb.create_sheet(\"リスト\")\n",
    "\n",
    "# 抽出セルの値を新しいシートにコピー   \n",
    "for row in target_rows:\n",
    "    new_row = new_sheet_1.max_row + 1\n",
    "    for cell in row:\n",
    "        new_sheet_1.cell(row=new_row, column=cell.column).value = cell.value\n",
    "        \n",
    "# 対象シートの取得\n",
    "sheet = wb[\"リスト\"]\n",
    "\n",
    "# Excelファイルの保存\n",
    "wb.save(\"export.xlsx\")\n"
   ]
  },
  {
   "cell_type": "code",
   "execution_count": 3,
   "id": "1757444a-4f0b-44f4-84f1-0b1a2d18a815",
   "metadata": {
    "tags": []
   },
   "outputs": [],
   "source": [
    "import openpyxl\n",
    "file_path = r\"C:\\Users\\ryout\\Documents\\jupyterlab\\excel\\export.xlsx\"\n",
    "wb = openpyxl.load_workbook(file_path)"
   ]
  },
  {
   "cell_type": "code",
   "execution_count": 4,
   "id": "be2bf29b-f095-4aa0-8d04-06af6b7cb4cb",
   "metadata": {
    "tags": []
   },
   "outputs": [
    {
     "name": "stdout",
     "output_type": "stream",
     "text": [
      "<Worksheet \"Sheet1\">\n"
     ]
    }
   ],
   "source": [
    "print(wb.active)"
   ]
  },
  {
   "cell_type": "code",
   "execution_count": 5,
   "id": "e7cee41d-7ebf-4709-bd6d-0e112b5627de",
   "metadata": {
    "tags": []
   },
   "outputs": [],
   "source": [
    "wb.close()"
   ]
  },
  {
   "cell_type": "code",
   "execution_count": 6,
   "id": "b56456f7-e900-46da-b885-9badd68672fc",
   "metadata": {
    "tags": []
   },
   "outputs": [],
   "source": [
    "import os\n",
    "file_path = r\"C:\\Users\\ryout\\Documents\\jupyterlab\\excel\\export.xlsx\"\n",
    "os.remove(file_path)"
   ]
  }
 ],
 "metadata": {
  "kernelspec": {
   "display_name": "Python 3 (ipykernel)",
   "language": "python",
   "name": "python3"
  },
  "language_info": {
   "codemirror_mode": {
    "name": "ipython",
    "version": 3
   },
   "file_extension": ".py",
   "mimetype": "text/x-python",
   "name": "python",
   "nbconvert_exporter": "python",
   "pygments_lexer": "ipython3",
   "version": "3.11.5"
  }
 },
 "nbformat": 4,
 "nbformat_minor": 5
}
