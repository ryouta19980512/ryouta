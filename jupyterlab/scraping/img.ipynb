{
 "cells": [
  {
   "cell_type": "code",
   "execution_count": 1,
   "id": "327044ab-2db0-4bd8-9508-9dfc66cc7984",
   "metadata": {
    "tags": []
   },
   "outputs": [],
   "source": [
    "import requests\n",
    "from bs4 import BeautifulSoup"
   ]
  },
  {
   "cell_type": "code",
   "execution_count": 2,
   "id": "34c9231d-696f-40a9-b160-21f90f74bd10",
   "metadata": {
    "tags": []
   },
   "outputs": [],
   "source": [
    "url = 'https://scraping-for-beginner.herokuapp.com/image'\n",
    "res = requests.get(url)"
   ]
  },
  {
   "cell_type": "code",
   "execution_count": 3,
   "id": "f9bf331d-20b9-41ac-bed0-c84124a42b6f",
   "metadata": {
    "tags": []
   },
   "outputs": [
    {
     "data": {
      "text/plain": [
       "<Response [200]>"
      ]
     },
     "execution_count": 3,
     "metadata": {},
     "output_type": "execute_result"
    }
   ],
   "source": [
    "res"
   ]
  },
  {
   "cell_type": "code",
   "execution_count": 4,
   "id": "c67b538d-e913-4706-9541-2b7820655acd",
   "metadata": {
    "tags": []
   },
   "outputs": [],
   "source": [
    "soup = BeautifulSoup(res.text, 'html.parser')\n",
    "#soup"
   ]
  },
  {
   "cell_type": "code",
   "execution_count": 5,
   "id": "082feb06-6a40-4c8a-954e-6134f7fa349c",
   "metadata": {
    "tags": []
   },
   "outputs": [
    {
     "data": {
      "text/plain": [
       "'/static/assets/img/img1.JPG'"
      ]
     },
     "execution_count": 5,
     "metadata": {},
     "output_type": "execute_result"
    }
   ],
   "source": [
    "img_tag = soup.find('img')\n",
    "img_tag['src']"
   ]
  },
  {
   "cell_type": "code",
   "execution_count": 6,
   "id": "b1bc5dc0-147b-4ab9-b6f4-a408afe1b21d",
   "metadata": {
    "tags": []
   },
   "outputs": [
    {
     "data": {
      "text/plain": [
       "'https://scraping-for-beginner.herokuapp.com/static/assets/img/img1.JPG'"
      ]
     },
     "execution_count": 6,
     "metadata": {},
     "output_type": "execute_result"
    }
   ],
   "source": [
    "root_url ='https://scraping-for-beginner.herokuapp.com'\n",
    "img_url = root_url + img_tag['src']\n",
    "img_url"
   ]
  },
  {
   "cell_type": "code",
   "execution_count": 7,
   "id": "e4abc11d-c8fd-42b5-8de1-d30870315521",
   "metadata": {
    "tags": []
   },
   "outputs": [
    {
     "name": "stdout",
     "output_type": "stream",
     "text": [
      "Requirement already satisfied: Pillow in c:\\users\\ryout\\anaconda3\\lib\\site-packages (9.4.0)\n"
     ]
    }
   ],
   "source": [
    "!pip install Pillow"
   ]
  },
  {
   "cell_type": "code",
   "execution_count": 8,
   "id": "6de16256-0c27-4faa-adb2-650596a2ee0b",
   "metadata": {
    "tags": []
   },
   "outputs": [],
   "source": [
    "from PIL import Image\n",
    "import io"
   ]
  },
  {
   "cell_type": "code",
   "execution_count": 9,
   "id": "b0a84049-656b-42cf-881a-c63020ea640d",
   "metadata": {
    "tags": []
   },
   "outputs": [],
   "source": [
    "img = Image.open(io.BytesIO(requests.get(img_url).content))\n",
    "img.save('img/sample.jpg')"
   ]
  },
  {
   "cell_type": "code",
   "execution_count": 10,
   "id": "8048f3d3-f42b-468f-b32f-4424e8e170a4",
   "metadata": {
    "tags": []
   },
   "outputs": [],
   "source": [
    "#requests.get(img_url).content"
   ]
  },
  {
   "cell_type": "code",
   "execution_count": 11,
   "id": "605d24bf-c797-4eb4-9aa2-3711d312b2a8",
   "metadata": {
    "tags": []
   },
   "outputs": [],
   "source": [
    "img_tags = soup.find_all('img')\n",
    "for i, img_tag in enumerate(img_tags):\n",
    "\n",
    "    root_url ='https://scraping-for-beginner.herokuapp.com'\n",
    "    img_url = root_url + img_tag['src']\n",
    "\n",
    "    img = Image.open(io.BytesIO(requests.get(img_url).content))\n",
    "    img.save(f'img/{i}.jpg')\n"
   ]
  },
  {
   "cell_type": "code",
   "execution_count": null,
   "id": "31fc07fa-d3b3-4b48-bdd6-7bc805d35c2c",
   "metadata": {},
   "outputs": [],
   "source": []
  },
  {
   "cell_type": "code",
   "execution_count": null,
   "id": "eefa2e79-5ee8-4cac-933b-1d09e823614f",
   "metadata": {},
   "outputs": [],
   "source": []
  },
  {
   "cell_type": "code",
   "execution_count": null,
   "id": "3b0c288d-ee3b-4ae2-8353-59e62420b7d9",
   "metadata": {},
   "outputs": [],
   "source": []
  },
  {
   "cell_type": "code",
   "execution_count": null,
   "id": "197f4d36-d74e-4162-8a0c-b4147fd6a8a0",
   "metadata": {},
   "outputs": [],
   "source": []
  }
 ],
 "metadata": {
  "kernelspec": {
   "display_name": "Python 3 (ipykernel)",
   "language": "python",
   "name": "python3"
  },
  "language_info": {
   "codemirror_mode": {
    "name": "ipython",
    "version": 3
   },
   "file_extension": ".py",
   "mimetype": "text/x-python",
   "name": "python",
   "nbconvert_exporter": "python",
   "pygments_lexer": "ipython3",
   "version": "3.11.5"
  }
 },
 "nbformat": 4,
 "nbformat_minor": 5
}
