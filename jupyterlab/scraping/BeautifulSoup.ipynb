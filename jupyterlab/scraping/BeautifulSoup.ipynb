{
 "cells": [
  {
   "cell_type": "code",
   "execution_count": 1,
   "id": "cde8ea8c-4158-4382-903a-7c1ea3a2ffb4",
   "metadata": {
    "tags": []
   },
   "outputs": [],
   "source": [
    "import requests\n",
    "from bs4 import BeautifulSoup"
   ]
  },
  {
   "cell_type": "code",
   "execution_count": 2,
   "id": "d6a24c78-0418-4f05-b636-cf5555fe4ced",
   "metadata": {
    "tags": []
   },
   "outputs": [],
   "source": [
    "url = 'https://scraping-for-beginner.herokuapp.com/udemy'\n",
    "res = requests.get(url)"
   ]
  },
  {
   "cell_type": "code",
   "execution_count": 3,
   "id": "dfc36aa8-2fde-4639-99a2-77e5047cb00c",
   "metadata": {
    "tags": []
   },
   "outputs": [
    {
     "data": {
      "text/plain": [
       "<Response [200]>"
      ]
     },
     "execution_count": 3,
     "metadata": {},
     "output_type": "execute_result"
    }
   ],
   "source": [
    "res"
   ]
  },
  {
   "cell_type": "code",
   "execution_count": 4,
   "id": "5d07c7c4-e877-4441-9be6-faf4ce183ea0",
   "metadata": {
    "tags": []
   },
   "outputs": [
    {
     "data": {
      "text/plain": [
       "<!DOCTYPE html>\n",
       "\n",
       "<html dir=\"ltr\" lang=\"en\">\n",
       "<head>\n",
       "<meta charset=\"utf-8\"/>\n",
       "<title>Webスクレイピング入門者のためのサイト</title>\n",
       "<!-- Compiled and minified CSS -->\n",
       "<link href=\"https://cdnjs.cloudflare.com/ajax/libs/materialize/1.0.0-rc.2/css/materialize.min.css\" rel=\"stylesheet\"/>\n",
       "<link href=\"https://fonts.googleapis.com/icon?family=Material+Icons\" rel=\"stylesheet\"/> \b\n",
       "  <link href=\"static/assets/css/style.css\" rel=\"stylesheet\"/>\n",
       "<link href=\"static/assets/css/udemy.css\" rel=\"stylesheet\"/>\n",
       "<!-- <link rel=\"stylesheet\" href=\"static/assets/css/mypage.css\"> -->\n",
       "</head>\n",
       "<body>\n",
       "<!-- Navbar -->\n",
       "<div class=\"navbar-fixed\">\n",
       "<!-- Dropdown Structure -->\n",
       "<nav class=\"\">\n",
       "<div class=\"nav-wrapper row\">\n",
       "<div class=\"col s5 l4 offset-s1 offset-l1\">\n",
       "<a class=\"brand-logo\" href=\"\b/\">Webスクレイピング入門</a>\n",
       "</div>\n",
       "<div class=\"col s5 l6\">\n",
       "<ul class=\"right hide-on-med-and-down\" id=\"nav-mobile\">\n",
       "<li><a class=\"\" href=\"\b/login_page\">ログイン</a></li>\n",
       "<li><a class=\"\" href=\"/ranking/\">ランキング</a></li>\n",
       "<li><a class=\"\" href=\"/image\">画像</a></li>\n",
       "<li><a class=\"\" href=\"/udemy\">Udemy</a></li>\n",
       "<li><a class=\"\" href=\"https://scraping-for-beginner.readthedocs.io/\" target=\"”_blank”\">サンプルコード</a></li>\n",
       "</ul>\n",
       "</div>\n",
       "</div>\n",
       "</nav>\n",
       "</div>\n",
       "<div class=\"row\">\n",
       "<div class=\"col s4 offset-s4\">\n",
       "<div class=\"overview\">\n",
       "<p>\n",
       "      こちらのページは、<b>PythonによるWebスクレイピング〜Webアプリケーション編〜</b>で使用します。\n",
       "      </p>\n",
       "</div>\n",
       "<div class=\"\">\n",
       "<div class=\"\">\n",
       "<div class=\"card\">\n",
       "<div class=\"card-image\">\n",
       "<img src=\"/static/assets/img/imanyu.png\"/>\n",
       "<span class=\"card-title\" style=\"color: black; background-color: white;\">いまにゅ</span>\n",
       "</div>\n",
       "<div class=\"card-content\">\n",
       "<p><b><p class=\"position\">いまにゅのプログラミング塾｜code4biz 代表</p></b><br/>\n",
       "\n",
       "            『プログラミング×〇〇』でビジネス戦闘力を向上させる｜東京理科大出身｜元東北大学 非常勤講師｜東進デジタルユニバーシティ最年少講師｜AI教育系ベンチャー（キカガク）取締役 → 今｜Udemy受講生3.3万人｜YouTubeチャンネル登録者10.5万人｜プログラミング初学者に欠かせない学習法等を発信<br/>\n",
       "</p>\n",
       "</div>\n",
       "<div class=\"card-action\">\n",
       "<p class=\"subscribers\">受講生の数：20339</p>\n",
       "<p class=\"reviews\">レビューの数：3471</p>\n",
       "</div>\n",
       "</div>\n",
       "</div>\n",
       "</div>\n",
       "</div>\n",
       "</div>\n",
       "<!-- Compiled and minified JavaScript -->\n",
       "<script src=\"https://code.jquery.com/jquery-3.3.1.min.js\"></script>\n",
       "<script src=\"https://cdnjs.cloudflare.com/ajax/libs/materialize/1.0.0-rc.2/js/materialize.min.js\"></script>\n",
       "<script type=\"text/javascript\">\n",
       "    $(document).ready(function() {\n",
       "      $(\".dropdown-trigger\").dropdown();\n",
       "    });\n",
       "  </script>\n",
       "</body>\n",
       "</html>"
      ]
     },
     "execution_count": 4,
     "metadata": {},
     "output_type": "execute_result"
    }
   ],
   "source": [
    "soup = BeautifulSoup(res.text, 'html.parser')\n",
    "soup"
   ]
  },
  {
   "cell_type": "code",
   "execution_count": 5,
   "id": "c8dfb03e-4747-4465-8338-721a1a752997",
   "metadata": {
    "tags": []
   },
   "outputs": [
    {
     "name": "stdout",
     "output_type": "stream",
     "text": [
      "<!DOCTYPE html>\n",
      "<html dir=\"ltr\" lang=\"en\">\n",
      " <head>\n",
      "  <meta charset=\"utf-8\"/>\n",
      "  <title>\n",
      "   Webスクレイピング入門者のためのサイト\n",
      "  </title>\n",
      "  <!-- Compiled and minified CSS -->\n",
      "  <link href=\"https://cdnjs.cloudflare.com/ajax/libs/materialize/1.0.0-rc.2/css/materialize.min.css\" rel=\"stylesheet\"/>\n",
      "  <link href=\"https://fonts.googleapis.com/icon?family=Material+Icons\" rel=\"stylesheet\"/>\n",
      " \n",
      "  <link href=\"static/assets/css/style.css\" rel=\"stylesheet\"/>\n",
      "  <link href=\"static/assets/css/udemy.css\" rel=\"stylesheet\"/>\n",
      "  <!-- <link rel=\"stylesheet\" href=\"static/assets/css/mypage.css\"> -->\n",
      " </head>\n",
      " <body>\n",
      "  <!-- Navbar -->\n",
      "  <div class=\"navbar-fixed\">\n",
      "   <!-- Dropdown Structure -->\n",
      "   <nav class=\"\">\n",
      "    <div class=\"nav-wrapper row\">\n",
      "     <div class=\"col s5 l4 offset-s1 offset-l1\">\n",
      "      <a class=\"brand-logo\" href=/\">\n",
      "       Webスクレイピング入門\n",
      "      </a>\n",
      "     </div>\n",
      "     <div class=\"col s5 l6\">\n",
      "      <ul class=\"right hide-on-med-and-down\" id=\"nav-mobile\">\n",
      "       <li>\n",
      "        <a class=\"\" href=/login_page\">\n",
      "         ログイン\n",
      "        </a>\n",
      "       </li>\n",
      "       <li>\n",
      "        <a class=\"\" href=\"/ranking/\">\n",
      "         ランキング\n",
      "        </a>\n",
      "       </li>\n",
      "       <li>\n",
      "        <a class=\"\" href=\"/image\">\n",
      "         画像\n",
      "        </a>\n",
      "       </li>\n",
      "       <li>\n",
      "        <a class=\"\" href=\"/udemy\">\n",
      "         Udemy\n",
      "        </a>\n",
      "       </li>\n",
      "       <li>\n",
      "        <a class=\"\" href=\"https://scraping-for-beginner.readthedocs.io/\" target=\"”_blank”\">\n",
      "         サンプルコード\n",
      "        </a>\n",
      "       </li>\n",
      "      </ul>\n",
      "     </div>\n",
      "    </div>\n",
      "   </nav>\n",
      "  </div>\n",
      "  <div class=\"row\">\n",
      "   <div class=\"col s4 offset-s4\">\n",
      "    <div class=\"overview\">\n",
      "     <p>\n",
      "      こちらのページは、\n",
      "      <b>\n",
      "       PythonによるWebスクレイピング〜Webアプリケーション編〜\n",
      "      </b>\n",
      "      で使用します。\n",
      "     </p>\n",
      "    </div>\n",
      "    <div class=\"\">\n",
      "     <div class=\"\">\n",
      "      <div class=\"card\">\n",
      "       <div class=\"card-image\">\n",
      "        <img src=\"/static/assets/img/imanyu.png\"/>\n",
      "        <span class=\"card-title\" style=\"color: black; background-color: white;\">\n",
      "         いまにゅ\n",
      "        </span>\n",
      "       </div>\n",
      "       <div class=\"card-content\">\n",
      "        <p>\n",
      "         <b>\n",
      "          <p class=\"position\">\n",
      "           いまにゅのプログラミング塾｜code4biz 代表\n",
      "          </p>\n",
      "         </b>\n",
      "         <br/>\n",
      "         『プログラミング×〇〇』でビジネス戦闘力を向上させる｜東京理科大出身｜元東北大学 非常勤講師｜東進デジタルユニバーシティ最年少講師｜AI教育系ベンチャー（キカガク）取締役 → 今｜Udemy受講生3.3万人｜YouTubeチャンネル登録者10.5万人｜プログラミング初学者に欠かせない学習法等を発信\n",
      "         <br/>\n",
      "        </p>\n",
      "       </div>\n",
      "       <div class=\"card-action\">\n",
      "        <p class=\"subscribers\">\n",
      "         受講生の数：20339\n",
      "        </p>\n",
      "        <p class=\"reviews\">\n",
      "         レビューの数：3471\n",
      "        </p>\n",
      "       </div>\n",
      "      </div>\n",
      "     </div>\n",
      "    </div>\n",
      "   </div>\n",
      "  </div>\n",
      "  <!-- Compiled and minified JavaScript -->\n",
      "  <script src=\"https://code.jquery.com/jquery-3.3.1.min.js\">\n",
      "  </script>\n",
      "  <script src=\"https://cdnjs.cloudflare.com/ajax/libs/materialize/1.0.0-rc.2/js/materialize.min.js\">\n",
      "  </script>\n",
      "  <script type=\"text/javascript\">\n",
      "   $(document).ready(function() {\n",
      "      $(\".dropdown-trigger\").dropdown();\n",
      "    });\n",
      "  </script>\n",
      " </body>\n",
      "</html>\n",
      "\n"
     ]
    }
   ],
   "source": [
    "print(soup.prettify())"
   ]
  },
  {
   "cell_type": "code",
   "execution_count": 6,
   "id": "aa73d6d5-26b6-4a7c-bb7b-41027b4fa063",
   "metadata": {
    "tags": []
   },
   "outputs": [
    {
     "data": {
      "text/plain": [
       "[<p>\n",
       "       こちらのページは、<b>PythonによるWebスクレイピング〜Webアプリケーション編〜</b>で使用します。\n",
       "       </p>,\n",
       " <p><b><p class=\"position\">いまにゅのプログラミング塾｜code4biz 代表</p></b><br/>\n",
       " \n",
       "             『プログラミング×〇〇』でビジネス戦闘力を向上させる｜東京理科大出身｜元東北大学 非常勤講師｜東進デジタルユニバーシティ最年少講師｜AI教育系ベンチャー（キカガク）取締役 → 今｜Udemy受講生3.3万人｜YouTubeチャンネル登録者10.5万人｜プログラミング初学者に欠かせない学習法等を発信<br/>\n",
       " </p>,\n",
       " <p class=\"position\">いまにゅのプログラミング塾｜code4biz 代表</p>,\n",
       " <p class=\"subscribers\">受講生の数：20339</p>,\n",
       " <p class=\"reviews\">レビューの数：3471</p>]"
      ]
     },
     "execution_count": 6,
     "metadata": {},
     "output_type": "execute_result"
    }
   ],
   "source": [
    "soup.find_all('p')"
   ]
  },
  {
   "cell_type": "code",
   "execution_count": 7,
   "id": "9988e656-a2fe-4a82-8554-19a2fdbfa7de",
   "metadata": {
    "tags": []
   },
   "outputs": [
    {
     "data": {
      "text/plain": [
       "<p>\n",
       "      こちらのページは、<b>PythonによるWebスクレイピング〜Webアプリケーション編〜</b>で使用します。\n",
       "      </p>"
      ]
     },
     "execution_count": 7,
     "metadata": {},
     "output_type": "execute_result"
    }
   ],
   "source": [
    "soup.find('p')"
   ]
  },
  {
   "cell_type": "code",
   "execution_count": 8,
   "id": "b48d594a-854a-4468-ba68-3008a2de4a9d",
   "metadata": {
    "tags": []
   },
   "outputs": [
    {
     "data": {
      "text/plain": [
       "'\\n      こちらのページは、PythonによるWebスクレイピング〜Webアプリケーション編〜で使用します。\\n      '"
      ]
     },
     "execution_count": 8,
     "metadata": {},
     "output_type": "execute_result"
    }
   ],
   "source": [
    "soup.p.text"
   ]
  },
  {
   "cell_type": "code",
   "execution_count": 9,
   "id": "a9e64af4-6608-4eaa-8a50-6a70a7fe682a",
   "metadata": {
    "tags": []
   },
   "outputs": [
    {
     "data": {
      "text/plain": [
       "<p class=\"subscribers\">受講生の数：20339</p>"
      ]
     },
     "execution_count": 9,
     "metadata": {},
     "output_type": "execute_result"
    }
   ],
   "source": [
    "subscribers = soup.find_all('p', attrs={'class': 'subscribers'})[0]\n",
    "subscribers"
   ]
  },
  {
   "cell_type": "code",
   "execution_count": 10,
   "id": "d79a3a82-4ede-4147-828d-b0fdfee8d6b5",
   "metadata": {
    "tags": []
   },
   "outputs": [
    {
     "data": {
      "text/plain": [
       "20339"
      ]
     },
     "execution_count": 10,
     "metadata": {},
     "output_type": "execute_result"
    }
   ],
   "source": [
    "n_subscribers = int(subscribers.text.split('：')[1])\n",
    "n_subscribers"
   ]
  },
  {
   "cell_type": "code",
   "execution_count": 11,
   "id": "88566ffb-bbd0-42d2-bb6e-0bf25a87355b",
   "metadata": {
    "tags": []
   },
   "outputs": [
    {
     "data": {
      "text/plain": [
       "<p class=\"subscribers\">受講生の数：20339</p>"
      ]
     },
     "execution_count": 11,
     "metadata": {},
     "output_type": "execute_result"
    }
   ],
   "source": [
    "soup.select_one('.subscribers')"
   ]
  },
  {
   "cell_type": "code",
   "execution_count": null,
   "id": "9eab7c06-143b-4997-961b-d4cee4f868b1",
   "metadata": {},
   "outputs": [],
   "source": []
  },
  {
   "cell_type": "code",
   "execution_count": null,
   "id": "24b8f48d-70bb-474d-9609-fa7f3747ade6",
   "metadata": {},
   "outputs": [],
   "source": []
  },
  {
   "cell_type": "code",
   "execution_count": null,
   "id": "cecf03aa-5b10-47a0-b80b-2dae343d7beb",
   "metadata": {},
   "outputs": [],
   "source": []
  }
 ],
 "metadata": {
  "kernelspec": {
   "display_name": "Python 3 (ipykernel)",
   "language": "python",
   "name": "python3"
  },
  "language_info": {
   "codemirror_mode": {
    "name": "ipython",
    "version": 3
   },
   "file_extension": ".py",
   "mimetype": "text/x-python",
   "name": "python",
   "nbconvert_exporter": "python",
   "pygments_lexer": "ipython3",
   "version": "3.11.5"
  }
 },
 "nbformat": 4,
 "nbformat_minor": 5
}
