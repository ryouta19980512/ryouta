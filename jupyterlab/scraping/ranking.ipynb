{
 "cells": [
  {
   "cell_type": "code",
   "execution_count": 1,
   "id": "f52ae609-cceb-4263-ba1c-7e01b7fc5bc6",
   "metadata": {
    "tags": []
   },
   "outputs": [],
   "source": [
    "import requests\n",
    "from bs4 import BeautifulSoup"
   ]
  },
  {
   "cell_type": "code",
   "execution_count": 2,
   "id": "5e3b4f73-d6e4-49b8-8dc1-6567282f07bb",
   "metadata": {
    "tags": []
   },
   "outputs": [],
   "source": [
    "url = 'https://scraping-for-beginner.herokuapp.com/ranking/'\n",
    "res = requests.get(url)"
   ]
  },
  {
   "cell_type": "code",
   "execution_count": 3,
   "id": "0bf06810-2965-476f-a57b-8ae747f15d3c",
   "metadata": {
    "tags": []
   },
   "outputs": [
    {
     "data": {
      "text/plain": [
       "<Response [200]>"
      ]
     },
     "execution_count": 3,
     "metadata": {},
     "output_type": "execute_result"
    }
   ],
   "source": [
    "res"
   ]
  },
  {
   "cell_type": "code",
   "execution_count": 4,
   "id": "c41977c4-f9fc-4421-b2ec-73c4bd123304",
   "metadata": {
    "tags": []
   },
   "outputs": [],
   "source": [
    "soup = BeautifulSoup(res.text, 'html.parser')\n",
    "#soup"
   ]
  },
  {
   "cell_type": "code",
   "execution_count": 5,
   "id": "f2819602-071f-4661-9ffe-c34aa39d32d0",
   "metadata": {
    "tags": []
   },
   "outputs": [
    {
     "data": {
      "text/plain": [
       "<div class=\"u_title col s12\">\n",
       "<p><h2><span class=\"badge\">1</span>観光地 1</h2></p>\n",
       "</div>"
      ]
     },
     "execution_count": 5,
     "metadata": {},
     "output_type": "execute_result"
    }
   ],
   "source": [
    "##　一つの観光地情報を取得する　これからforで回す\n",
    "spots = soup.find_all('div', attrs={'class': 'u_areaListRankingBox'})\n",
    "spot = spots[0]\n",
    "spot_name = spot.find('div', attrs={'class': 'u_title'})\n",
    "spot_name"
   ]
  },
  {
   "cell_type": "code",
   "execution_count": 6,
   "id": "25172043-e452-48ad-9f80-cc9f00f7b286",
   "metadata": {
    "tags": []
   },
   "outputs": [
    {
     "data": {
      "text/plain": [
       "'\\n観光地 1\\n'"
      ]
     },
     "execution_count": 6,
     "metadata": {},
     "output_type": "execute_result"
    }
   ],
   "source": [
    "spot_name.find('span', attrs={'class': 'badge'}).extract()\n",
    "spot_name.text"
   ]
  },
  {
   "cell_type": "code",
   "execution_count": 7,
   "id": "bfa5af49-3823-4336-9b1f-62e4b189071f",
   "metadata": {
    "tags": []
   },
   "outputs": [],
   "source": [
    "spot_name = spot_name.text.replace('\\n', '')"
   ]
  },
  {
   "cell_type": "code",
   "execution_count": 8,
   "id": "0f0d1d52-aa10-4b81-aa40-06fa8a89b734",
   "metadata": {
    "tags": []
   },
   "outputs": [],
   "source": [
    "eval_nam = spot.find('div', attrs={'class': 'u_rankBox'}).text\n",
    "eval_nam = float(eval_nam.replace('\\n', ''))"
   ]
  },
  {
   "cell_type": "code",
   "execution_count": 9,
   "id": "bd4e5c50-6ed6-4452-8c21-d1c300eddc14",
   "metadata": {
    "tags": []
   },
   "outputs": [
    {
     "data": {
      "text/plain": [
       "4.7"
      ]
     },
     "execution_count": 9,
     "metadata": {},
     "output_type": "execute_result"
    }
   ],
   "source": [
    "eval_nam"
   ]
  },
  {
   "cell_type": "code",
   "execution_count": 10,
   "id": "8c14353c-7ab5-4d44-bf9e-79edbcfe7688",
   "metadata": {
    "tags": []
   },
   "outputs": [],
   "source": [
    "categoryItems = spot.find('div', attrs={'class': 'u_categoryTipsItem'})"
   ]
  },
  {
   "cell_type": "code",
   "execution_count": 11,
   "id": "2347ed36-440b-4b47-9fff-6b714848f4d5",
   "metadata": {
    "tags": []
   },
   "outputs": [
    {
     "data": {
      "text/plain": [
       "<div class=\"u_categoryTipsItem col s12\">\n",
       "<dl>\n",
       "<dt>楽しさ</dt>\n",
       "<dd class=\"is_rank\"><span class=\"evaluateNumber\">4.6</span></dd>\n",
       "<dd class=\"comment\">一人旅には最適でした</dd>\n",
       "</dl>\n",
       "<dl>\n",
       "<dt>人混みの多さ</dt>\n",
       "<dd class=\"is_rank\"><span class=\"evaluateNumber\">4.5</span></dd>\n",
       "<dd class=\"comment\">非常に混んでいた</dd>\n",
       "</dl>\n",
       "<dl>\n",
       "<dt>景色</dt>\n",
       "<dd class=\"is_rank\"><span class=\"evaluateNumber\">4.9</span></dd>\n",
       "<dd class=\"comment\">信じられないような絶景であった</dd>\n",
       "</dl>\n",
       "<dl>\n",
       "<dt>アクセス</dt>\n",
       "<dd class=\"is_rank\"><span class=\"evaluateNumber\">4.2</span></dd>\n",
       "<dd class=\"comment\">渋滞に巻き込まれて3時間以上かかった</dd>\n",
       "</dl>\n",
       "</div>"
      ]
     },
     "execution_count": 11,
     "metadata": {},
     "output_type": "execute_result"
    }
   ],
   "source": [
    "categoryItems"
   ]
  },
  {
   "cell_type": "code",
   "execution_count": 12,
   "id": "ad4203ad-7b44-4808-89e1-74f1c470ac1f",
   "metadata": {
    "tags": []
   },
   "outputs": [
    {
     "data": {
      "text/plain": [
       "[<dl>\n",
       " <dt>楽しさ</dt>\n",
       " <dd class=\"is_rank\"><span class=\"evaluateNumber\">4.6</span></dd>\n",
       " <dd class=\"comment\">一人旅には最適でした</dd>\n",
       " </dl>,\n",
       " <dl>\n",
       " <dt>人混みの多さ</dt>\n",
       " <dd class=\"is_rank\"><span class=\"evaluateNumber\">4.5</span></dd>\n",
       " <dd class=\"comment\">非常に混んでいた</dd>\n",
       " </dl>,\n",
       " <dl>\n",
       " <dt>景色</dt>\n",
       " <dd class=\"is_rank\"><span class=\"evaluateNumber\">4.9</span></dd>\n",
       " <dd class=\"comment\">信じられないような絶景であった</dd>\n",
       " </dl>,\n",
       " <dl>\n",
       " <dt>アクセス</dt>\n",
       " <dd class=\"is_rank\"><span class=\"evaluateNumber\">4.2</span></dd>\n",
       " <dd class=\"comment\">渋滞に巻き込まれて3時間以上かかった</dd>\n",
       " </dl>]"
      ]
     },
     "execution_count": 12,
     "metadata": {},
     "output_type": "execute_result"
    }
   ],
   "source": [
    "categoryItems = categoryItems.find_all('dl')\n",
    "categoryItems"
   ]
  },
  {
   "cell_type": "code",
   "execution_count": 13,
   "id": "db5168ec-abf5-44e3-8a9e-90d6714ea4e2",
   "metadata": {
    "tags": []
   },
   "outputs": [
    {
     "data": {
      "text/plain": [
       "<dl>\n",
       "<dt>楽しさ</dt>\n",
       "<dd class=\"is_rank\"><span class=\"evaluateNumber\">4.6</span></dd>\n",
       "<dd class=\"comment\">一人旅には最適でした</dd>\n",
       "</dl>"
      ]
     },
     "execution_count": 13,
     "metadata": {},
     "output_type": "execute_result"
    }
   ],
   "source": [
    "categoryItem = categoryItems[0]\n",
    "categoryItem"
   ]
  },
  {
   "cell_type": "code",
   "execution_count": 14,
   "id": "38babb2a-da5e-4073-b545-fc5eb0770417",
   "metadata": {
    "tags": []
   },
   "outputs": [
    {
     "data": {
      "text/plain": [
       "'楽しさ'"
      ]
     },
     "execution_count": 14,
     "metadata": {},
     "output_type": "execute_result"
    }
   ],
   "source": [
    "category = categoryItem.dt.text\n",
    "category"
   ]
  },
  {
   "cell_type": "code",
   "execution_count": 15,
   "id": "df631c8b-e7cb-44d6-bfb3-e9b1d00f3c5c",
   "metadata": {
    "tags": []
   },
   "outputs": [
    {
     "data": {
      "text/plain": [
       "4.6"
      ]
     },
     "execution_count": 15,
     "metadata": {},
     "output_type": "execute_result"
    }
   ],
   "source": [
    "rank = float(categoryItem.span.text)\n",
    "rank"
   ]
  },
  {
   "cell_type": "code",
   "execution_count": 16,
   "id": "89938e26-3b4c-4fbf-a50e-29186523adb4",
   "metadata": {
    "tags": []
   },
   "outputs": [],
   "source": [
    "details = {}\n",
    "\n",
    "#これを変形categoryItem = categoryItems[0]\n",
    "for categoryItem in categoryItems:\n",
    "    category = categoryItem.dt.text\n",
    "    rank = float(categoryItem.span.text)\n",
    "\n",
    "    details[category] = rank"
   ]
  },
  {
   "cell_type": "code",
   "execution_count": 17,
   "id": "9ab2ea2c-8a88-43b0-96a3-9bf09f56262f",
   "metadata": {
    "tags": []
   },
   "outputs": [
    {
     "data": {
      "text/plain": [
       "{'楽しさ': 4.6, '人混みの多さ': 4.5, '景色': 4.9, 'アクセス': 4.2}"
      ]
     },
     "execution_count": 17,
     "metadata": {},
     "output_type": "execute_result"
    }
   ],
   "source": [
    "details"
   ]
  },
  {
   "cell_type": "code",
   "execution_count": 18,
   "id": "bce9889b-3c23-4de0-a1ae-60f787dbec57",
   "metadata": {
    "tags": []
   },
   "outputs": [],
   "source": [
    "datum = details\n",
    "datum['観光地名'] = spot_name\n",
    "datum['評点'] = eval_nam"
   ]
  },
  {
   "cell_type": "code",
   "execution_count": 19,
   "id": "28b146ad-b335-4e8e-ac77-39588cd9f840",
   "metadata": {
    "tags": []
   },
   "outputs": [
    {
     "data": {
      "text/plain": [
       "{'楽しさ': 4.6, '人混みの多さ': 4.5, '景色': 4.9, 'アクセス': 4.2, '観光地名': '観光地 1', '評点': 4.7}"
      ]
     },
     "execution_count": 19,
     "metadata": {},
     "output_type": "execute_result"
    }
   ],
   "source": [
    "datum"
   ]
  },
  {
   "cell_type": "code",
   "execution_count": null,
   "id": "d8fdcc71-ba59-4941-8c70-ff3c5dde65ac",
   "metadata": {},
   "outputs": [],
   "source": []
  },
  {
   "cell_type": "code",
   "execution_count": 20,
   "id": "0b265d30-2fa3-40c1-8996-76407263f37c",
   "metadata": {
    "tags": []
   },
   "outputs": [],
   "source": [
    "soup = BeautifulSoup(res.text, 'html.parser')\n",
    "\n",
    "data = []\n",
    "\n",
    "##　観光地名\n",
    "spots = soup.find_all('div', attrs={'class': 'u_areaListRankingBox'})\n",
    "for spot in spots:\n",
    "    spot_name = spot.find('div', attrs={'class': 'u_title'})\n",
    "    spot_name.find('span', attrs={'class': 'badge'}).extract()\n",
    "    spot_name = spot_name.text.replace('\\n', '')\n",
    "\n",
    "    #評点\n",
    "    eval_nam = spot.find('div', attrs={'class': 'u_rankBox'}).text\n",
    "    eval_nam = float(eval_nam.replace('\\n', ''))\n",
    "\n",
    "    categoryItems = spot.find('div', attrs={'class': 'u_categoryTipsItem'})\n",
    "    categoryItems = categoryItems.find_all('dl')\n",
    "\n",
    "    details = {}\n",
    "\n",
    "    for categoryItem in categoryItems:\n",
    "        category = categoryItem.dt.text\n",
    "        rank = float(categoryItem.span.text)\n",
    "\n",
    "        details[category] = rank\n",
    "\n",
    "    datum = details\n",
    "    datum['観光地名'] = spot_name\n",
    "    datum['評点'] = eval_nam\n",
    "\n",
    "    data.append(datum)\n"
   ]
  },
  {
   "cell_type": "code",
   "execution_count": 21,
   "id": "be9a66fa-a6cc-4572-89cf-916346b498e9",
   "metadata": {
    "tags": []
   },
   "outputs": [
    {
     "data": {
      "text/plain": [
       "[{'楽しさ': 4.6,\n",
       "  '人混みの多さ': 4.5,\n",
       "  '景色': 4.9,\n",
       "  'アクセス': 4.2,\n",
       "  '観光地名': '観光地 1',\n",
       "  '評点': 4.7},\n",
       " {'楽しさ': 4.6,\n",
       "  '人混みの多さ': 4.5,\n",
       "  '景色': 4.9,\n",
       "  'アクセス': 4.2,\n",
       "  '観光地名': '観光地 2',\n",
       "  '評点': 4.7},\n",
       " {'楽しさ': 4.5,\n",
       "  '人混みの多さ': 4.4,\n",
       "  '景色': 4.8,\n",
       "  'アクセス': 4.1,\n",
       "  '観光地名': '観光地 3',\n",
       "  '評点': 4.6},\n",
       " {'楽しさ': 4.4,\n",
       "  '人混みの多さ': 4.4,\n",
       "  '景色': 4.8,\n",
       "  'アクセス': 4.0,\n",
       "  '観光地名': '観光地 4',\n",
       "  '評点': 4.5},\n",
       " {'楽しさ': 4.4,\n",
       "  '人混みの多さ': 4.3,\n",
       "  '景色': 4.7,\n",
       "  'アクセス': 4.0,\n",
       "  '観光地名': '観光地 5',\n",
       "  '評点': 4.5},\n",
       " {'楽しさ': 4.3,\n",
       "  '人混みの多さ': 4.3,\n",
       "  '景色': 4.7,\n",
       "  'アクセス': 3.9,\n",
       "  '観光地名': '観光地 6',\n",
       "  '評点': 4.4},\n",
       " {'楽しさ': 4.2,\n",
       "  '人混みの多さ': 4.2,\n",
       "  '景色': 4.6,\n",
       "  'アクセス': 3.8,\n",
       "  '観光地名': '観光地 7',\n",
       "  '評点': 4.3},\n",
       " {'楽しさ': 4.2,\n",
       "  '人混みの多さ': 4.2,\n",
       "  '景色': 4.6,\n",
       "  'アクセス': 3.8,\n",
       "  '観光地名': '観光地 8',\n",
       "  '評点': 4.3},\n",
       " {'楽しさ': 4.1,\n",
       "  '人混みの多さ': 4.1,\n",
       "  '景色': 4.5,\n",
       "  'アクセス': 3.7,\n",
       "  '観光地名': '観光地 9',\n",
       "  '評点': 4.2},\n",
       " {'楽しさ': 4.0,\n",
       "  '人混みの多さ': 4.1,\n",
       "  '景色': 4.4,\n",
       "  'アクセス': 3.6,\n",
       "  '観光地名': '観光地 10',\n",
       "  '評点': 4.1}]"
      ]
     },
     "execution_count": 21,
     "metadata": {},
     "output_type": "execute_result"
    }
   ],
   "source": [
    "data"
   ]
  },
  {
   "cell_type": "code",
   "execution_count": 22,
   "id": "ba760bc2-ed34-43ad-bd2b-348d39fd6c4a",
   "metadata": {
    "tags": []
   },
   "outputs": [],
   "source": [
    "import pandas as pd"
   ]
  },
  {
   "cell_type": "code",
   "execution_count": 23,
   "id": "8479ed3b-950f-4828-88e4-c6a80fe349f6",
   "metadata": {
    "tags": []
   },
   "outputs": [],
   "source": [
    "df = pd.DataFrame(data)"
   ]
  },
  {
   "cell_type": "code",
   "execution_count": 24,
   "id": "1c37504d-0636-42a4-b86e-c6e726cfd203",
   "metadata": {
    "tags": []
   },
   "outputs": [
    {
     "data": {
      "text/html": [
       "<div>\n",
       "<style scoped>\n",
       "    .dataframe tbody tr th:only-of-type {\n",
       "        vertical-align: middle;\n",
       "    }\n",
       "\n",
       "    .dataframe tbody tr th {\n",
       "        vertical-align: top;\n",
       "    }\n",
       "\n",
       "    .dataframe thead th {\n",
       "        text-align: right;\n",
       "    }\n",
       "</style>\n",
       "<table border=\"1\" class=\"dataframe\">\n",
       "  <thead>\n",
       "    <tr style=\"text-align: right;\">\n",
       "      <th></th>\n",
       "      <th>楽しさ</th>\n",
       "      <th>人混みの多さ</th>\n",
       "      <th>景色</th>\n",
       "      <th>アクセス</th>\n",
       "      <th>観光地名</th>\n",
       "      <th>評点</th>\n",
       "    </tr>\n",
       "  </thead>\n",
       "  <tbody>\n",
       "    <tr>\n",
       "      <th>0</th>\n",
       "      <td>4.6</td>\n",
       "      <td>4.5</td>\n",
       "      <td>4.9</td>\n",
       "      <td>4.2</td>\n",
       "      <td>観光地 1</td>\n",
       "      <td>4.7</td>\n",
       "    </tr>\n",
       "    <tr>\n",
       "      <th>1</th>\n",
       "      <td>4.6</td>\n",
       "      <td>4.5</td>\n",
       "      <td>4.9</td>\n",
       "      <td>4.2</td>\n",
       "      <td>観光地 2</td>\n",
       "      <td>4.7</td>\n",
       "    </tr>\n",
       "    <tr>\n",
       "      <th>2</th>\n",
       "      <td>4.5</td>\n",
       "      <td>4.4</td>\n",
       "      <td>4.8</td>\n",
       "      <td>4.1</td>\n",
       "      <td>観光地 3</td>\n",
       "      <td>4.6</td>\n",
       "    </tr>\n",
       "    <tr>\n",
       "      <th>3</th>\n",
       "      <td>4.4</td>\n",
       "      <td>4.4</td>\n",
       "      <td>4.8</td>\n",
       "      <td>4.0</td>\n",
       "      <td>観光地 4</td>\n",
       "      <td>4.5</td>\n",
       "    </tr>\n",
       "    <tr>\n",
       "      <th>4</th>\n",
       "      <td>4.4</td>\n",
       "      <td>4.3</td>\n",
       "      <td>4.7</td>\n",
       "      <td>4.0</td>\n",
       "      <td>観光地 5</td>\n",
       "      <td>4.5</td>\n",
       "    </tr>\n",
       "    <tr>\n",
       "      <th>5</th>\n",
       "      <td>4.3</td>\n",
       "      <td>4.3</td>\n",
       "      <td>4.7</td>\n",
       "      <td>3.9</td>\n",
       "      <td>観光地 6</td>\n",
       "      <td>4.4</td>\n",
       "    </tr>\n",
       "    <tr>\n",
       "      <th>6</th>\n",
       "      <td>4.2</td>\n",
       "      <td>4.2</td>\n",
       "      <td>4.6</td>\n",
       "      <td>3.8</td>\n",
       "      <td>観光地 7</td>\n",
       "      <td>4.3</td>\n",
       "    </tr>\n",
       "    <tr>\n",
       "      <th>7</th>\n",
       "      <td>4.2</td>\n",
       "      <td>4.2</td>\n",
       "      <td>4.6</td>\n",
       "      <td>3.8</td>\n",
       "      <td>観光地 8</td>\n",
       "      <td>4.3</td>\n",
       "    </tr>\n",
       "    <tr>\n",
       "      <th>8</th>\n",
       "      <td>4.1</td>\n",
       "      <td>4.1</td>\n",
       "      <td>4.5</td>\n",
       "      <td>3.7</td>\n",
       "      <td>観光地 9</td>\n",
       "      <td>4.2</td>\n",
       "    </tr>\n",
       "    <tr>\n",
       "      <th>9</th>\n",
       "      <td>4.0</td>\n",
       "      <td>4.1</td>\n",
       "      <td>4.4</td>\n",
       "      <td>3.6</td>\n",
       "      <td>観光地 10</td>\n",
       "      <td>4.1</td>\n",
       "    </tr>\n",
       "  </tbody>\n",
       "</table>\n",
       "</div>"
      ],
      "text/plain": [
       "   楽しさ  人混みの多さ   景色  アクセス    観光地名   評点\n",
       "0  4.6     4.5  4.9   4.2   観光地 1  4.7\n",
       "1  4.6     4.5  4.9   4.2   観光地 2  4.7\n",
       "2  4.5     4.4  4.8   4.1   観光地 3  4.6\n",
       "3  4.4     4.4  4.8   4.0   観光地 4  4.5\n",
       "4  4.4     4.3  4.7   4.0   観光地 5  4.5\n",
       "5  4.3     4.3  4.7   3.9   観光地 6  4.4\n",
       "6  4.2     4.2  4.6   3.8   観光地 7  4.3\n",
       "7  4.2     4.2  4.6   3.8   観光地 8  4.3\n",
       "8  4.1     4.1  4.5   3.7   観光地 9  4.2\n",
       "9  4.0     4.1  4.4   3.6  観光地 10  4.1"
      ]
     },
     "execution_count": 24,
     "metadata": {},
     "output_type": "execute_result"
    }
   ],
   "source": [
    "df"
   ]
  },
  {
   "cell_type": "code",
   "execution_count": 25,
   "id": "1b97ac8c-c758-455c-9615-10f7359faf6a",
   "metadata": {
    "tags": []
   },
   "outputs": [
    {
     "data": {
      "text/plain": [
       "Index(['楽しさ', '人混みの多さ', '景色', 'アクセス', '観光地名', '評点'], dtype='object')"
      ]
     },
     "execution_count": 25,
     "metadata": {},
     "output_type": "execute_result"
    }
   ],
   "source": [
    "df.columns"
   ]
  },
  {
   "cell_type": "code",
   "execution_count": 26,
   "id": "613a0372-1c29-433a-9a6e-1548cc61e457",
   "metadata": {
    "tags": []
   },
   "outputs": [
    {
     "data": {
      "text/html": [
       "<div>\n",
       "<style scoped>\n",
       "    .dataframe tbody tr th:only-of-type {\n",
       "        vertical-align: middle;\n",
       "    }\n",
       "\n",
       "    .dataframe tbody tr th {\n",
       "        vertical-align: top;\n",
       "    }\n",
       "\n",
       "    .dataframe thead th {\n",
       "        text-align: right;\n",
       "    }\n",
       "</style>\n",
       "<table border=\"1\" class=\"dataframe\">\n",
       "  <thead>\n",
       "    <tr style=\"text-align: right;\">\n",
       "      <th></th>\n",
       "      <th>観光地名</th>\n",
       "      <th>評点</th>\n",
       "      <th>楽しさ</th>\n",
       "      <th>人混みの多さ</th>\n",
       "      <th>景色</th>\n",
       "      <th>アクセス</th>\n",
       "    </tr>\n",
       "  </thead>\n",
       "  <tbody>\n",
       "    <tr>\n",
       "      <th>0</th>\n",
       "      <td>観光地 1</td>\n",
       "      <td>4.7</td>\n",
       "      <td>4.6</td>\n",
       "      <td>4.5</td>\n",
       "      <td>4.9</td>\n",
       "      <td>4.2</td>\n",
       "    </tr>\n",
       "    <tr>\n",
       "      <th>1</th>\n",
       "      <td>観光地 2</td>\n",
       "      <td>4.7</td>\n",
       "      <td>4.6</td>\n",
       "      <td>4.5</td>\n",
       "      <td>4.9</td>\n",
       "      <td>4.2</td>\n",
       "    </tr>\n",
       "    <tr>\n",
       "      <th>2</th>\n",
       "      <td>観光地 3</td>\n",
       "      <td>4.6</td>\n",
       "      <td>4.5</td>\n",
       "      <td>4.4</td>\n",
       "      <td>4.8</td>\n",
       "      <td>4.1</td>\n",
       "    </tr>\n",
       "    <tr>\n",
       "      <th>3</th>\n",
       "      <td>観光地 4</td>\n",
       "      <td>4.5</td>\n",
       "      <td>4.4</td>\n",
       "      <td>4.4</td>\n",
       "      <td>4.8</td>\n",
       "      <td>4.0</td>\n",
       "    </tr>\n",
       "    <tr>\n",
       "      <th>4</th>\n",
       "      <td>観光地 5</td>\n",
       "      <td>4.5</td>\n",
       "      <td>4.4</td>\n",
       "      <td>4.3</td>\n",
       "      <td>4.7</td>\n",
       "      <td>4.0</td>\n",
       "    </tr>\n",
       "    <tr>\n",
       "      <th>5</th>\n",
       "      <td>観光地 6</td>\n",
       "      <td>4.4</td>\n",
       "      <td>4.3</td>\n",
       "      <td>4.3</td>\n",
       "      <td>4.7</td>\n",
       "      <td>3.9</td>\n",
       "    </tr>\n",
       "    <tr>\n",
       "      <th>6</th>\n",
       "      <td>観光地 7</td>\n",
       "      <td>4.3</td>\n",
       "      <td>4.2</td>\n",
       "      <td>4.2</td>\n",
       "      <td>4.6</td>\n",
       "      <td>3.8</td>\n",
       "    </tr>\n",
       "    <tr>\n",
       "      <th>7</th>\n",
       "      <td>観光地 8</td>\n",
       "      <td>4.3</td>\n",
       "      <td>4.2</td>\n",
       "      <td>4.2</td>\n",
       "      <td>4.6</td>\n",
       "      <td>3.8</td>\n",
       "    </tr>\n",
       "    <tr>\n",
       "      <th>8</th>\n",
       "      <td>観光地 9</td>\n",
       "      <td>4.2</td>\n",
       "      <td>4.1</td>\n",
       "      <td>4.1</td>\n",
       "      <td>4.5</td>\n",
       "      <td>3.7</td>\n",
       "    </tr>\n",
       "    <tr>\n",
       "      <th>9</th>\n",
       "      <td>観光地 10</td>\n",
       "      <td>4.1</td>\n",
       "      <td>4.0</td>\n",
       "      <td>4.1</td>\n",
       "      <td>4.4</td>\n",
       "      <td>3.6</td>\n",
       "    </tr>\n",
       "  </tbody>\n",
       "</table>\n",
       "</div>"
      ],
      "text/plain": [
       "     観光地名   評点  楽しさ  人混みの多さ   景色  アクセス\n",
       "0   観光地 1  4.7  4.6     4.5  4.9   4.2\n",
       "1   観光地 2  4.7  4.6     4.5  4.9   4.2\n",
       "2   観光地 3  4.6  4.5     4.4  4.8   4.1\n",
       "3   観光地 4  4.5  4.4     4.4  4.8   4.0\n",
       "4   観光地 5  4.5  4.4     4.3  4.7   4.0\n",
       "5   観光地 6  4.4  4.3     4.3  4.7   3.9\n",
       "6   観光地 7  4.3  4.2     4.2  4.6   3.8\n",
       "7   観光地 8  4.3  4.2     4.2  4.6   3.8\n",
       "8   観光地 9  4.2  4.1     4.1  4.5   3.7\n",
       "9  観光地 10  4.1  4.0     4.1  4.4   3.6"
      ]
     },
     "execution_count": 26,
     "metadata": {},
     "output_type": "execute_result"
    }
   ],
   "source": [
    "df = df[['観光地名', '評点','楽しさ', '人混みの多さ', '景色', 'アクセス']]\n",
    "df"
   ]
  },
  {
   "cell_type": "code",
   "execution_count": 28,
   "id": "ac319b76-a8c7-4e32-8eb1-b9f1184fbd54",
   "metadata": {
    "tags": []
   },
   "outputs": [],
   "source": [
    "df.to_csv('観光地情報.csv', index=False)"
   ]
  },
  {
   "cell_type": "code",
   "execution_count": null,
   "id": "398b8468-4269-4cb7-90f4-94c9107c2a3f",
   "metadata": {},
   "outputs": [],
   "source": []
  },
  {
   "cell_type": "code",
   "execution_count": null,
   "id": "096b9b50-52df-463a-ad6b-1dccb5c1fe51",
   "metadata": {},
   "outputs": [],
   "source": []
  },
  {
   "cell_type": "code",
   "execution_count": null,
   "id": "d718b0a3-d419-4c83-a777-3e4cbeb5a44f",
   "metadata": {},
   "outputs": [],
   "source": []
  }
 ],
 "metadata": {
  "kernelspec": {
   "display_name": "Python 3 (ipykernel)",
   "language": "python",
   "name": "python3"
  },
  "language_info": {
   "codemirror_mode": {
    "name": "ipython",
    "version": 3
   },
   "file_extension": ".py",
   "mimetype": "text/x-python",
   "name": "python",
   "nbconvert_exporter": "python",
   "pygments_lexer": "ipython3",
   "version": "3.11.5"
  }
 },
 "nbformat": 4,
 "nbformat_minor": 5
}
