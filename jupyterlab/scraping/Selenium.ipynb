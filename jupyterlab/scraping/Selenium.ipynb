{
 "cells": [
  {
   "cell_type": "code",
   "execution_count": 1,
   "id": "9e15fe57-6808-4773-b327-986c16f71cb9",
   "metadata": {
    "tags": []
   },
   "outputs": [],
   "source": [
    "from selenium import webdriver"
   ]
  },
  {
   "cell_type": "code",
   "execution_count": 2,
   "id": "3a5bd85d-ba84-4428-b44a-c715f0f0f15f",
   "metadata": {
    "tags": []
   },
   "outputs": [],
   "source": [
    "import time"
   ]
  },
  {
   "cell_type": "code",
   "execution_count": 3,
   "id": "919ca08a-063a-4326-b624-fb65eaf181d4",
   "metadata": {
    "tags": []
   },
   "outputs": [],
   "source": [
    "from selenium.webdriver.common.by import By"
   ]
  },
  {
   "cell_type": "code",
   "execution_count": 4,
   "id": "4cb5a0ab-fa1d-4975-8d7b-f18ec831dc87",
   "metadata": {
    "tags": []
   },
   "outputs": [],
   "source": [
    "browser = webdriver.Chrome()\n",
    "url = 'https://scraping-for-beginner.herokuapp.com/login_page'\n",
    "browser.get(url)\n",
    "time.sleep(2)\n",
    "elem_username = browser.find_element(By.ID, 'username')\n",
    "elem_username.send_keys('imanishi')\n",
    "time.sleep(2)"
   ]
  },
  {
   "cell_type": "code",
   "execution_count": 5,
   "id": "4f5b03de-a60d-481f-833d-0dc3bcdd26d4",
   "metadata": {
    "tags": []
   },
   "outputs": [],
   "source": [
    "elem_password = browser.find_element(By.ID, 'password')\n",
    "elem_password.send_keys('kohei')\n",
    "time.sleep(2)"
   ]
  },
  {
   "cell_type": "code",
   "execution_count": 6,
   "id": "289ea411-7cdf-4e2d-955f-ae2c9cb56545",
   "metadata": {
    "tags": []
   },
   "outputs": [],
   "source": [
    "elem_login_btn = browser.find_element(By.ID, 'login-btn')\n",
    "elem_login_btn.click()\n",
    "time.sleep(2)"
   ]
  },
  {
   "cell_type": "code",
   "execution_count": 7,
   "id": "df270e92-a7ac-4bd2-9cb5-0f62b203d079",
   "metadata": {
    "tags": []
   },
   "outputs": [],
   "source": [
    "browser.quit()"
   ]
  }
 ],
 "metadata": {
  "kernelspec": {
   "display_name": "Python 3 (ipykernel)",
   "language": "python",
   "name": "python3"
  },
  "language_info": {
   "codemirror_mode": {
    "name": "ipython",
    "version": 3
   },
   "file_extension": ".py",
   "mimetype": "text/x-python",
   "name": "python",
   "nbconvert_exporter": "python",
   "pygments_lexer": "ipython3",
   "version": "3.11.5"
  }
 },
 "nbformat": 4,
 "nbformat_minor": 5
}
